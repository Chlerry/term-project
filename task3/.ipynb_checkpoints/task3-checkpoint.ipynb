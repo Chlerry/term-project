{
 "cells": [
  {
   "cell_type": "code",
   "execution_count": null,
   "metadata": {},
   "outputs": [],
   "source": [
    "from keras.models import Model\n",
    "from keras.layers import Input, Dense, Conv2D, MaxPooling2D, UpSampling2D\n",
    "\n",
    "import numpy as np\n",
    "from matplotlib import pyplot as plt\n",
    "\n",
    "import os\n",
    "from PIL import Image\n",
    "\n",
    "# The image is actually 240 x 416, \n",
    "#     so we will have 16 x 16 patches with frame shape of 15 x 26 instead of 26 x 15\n",
    "data1_path = 'RaceHorses_416x240_30' "
   ]
  },
  {
   "cell_type": "code",
   "execution_count": null,
   "metadata": {},
   "outputs": [],
   "source": [
    "df =[]\n",
    "n_images = len(os.listdir(data1_path))\n",
    "for im_name in os.listdir(data1_path):\n",
    "    input_im =  np.array(Image.open(data1_path + '/' + im_name))[...,:3]\n",
    "    df.append(input_im)\n",
    "df = np.array(df)\n",
    "train_num = df.shape[0] * 3//4\n",
    "np.random.shuffle(df)\n",
    "train_data = df[:train_num]\n",
    "test_data = df[train_num:]"
   ]
  },
  {
   "cell_type": "code",
   "execution_count": null,
   "metadata": {},
   "outputs": [],
   "source": [
    "x=df.shape[1]\n",
    "y=df.shape[2]\n",
    "z=df.shape[3]\n",
    "\n",
    "input_img = Input(shape=(x,y,z))\n",
    "\n",
    "e = Conv2D(64, (7, 7), activation='relu', padding='same')(input_img)\n",
    "e = MaxPooling2D((2, 2), padding='same')(e)\n",
    "e = Conv2D(32, (5, 5), activation='relu', padding='same')(e)\n",
    "e = MaxPooling2D((2, 2), padding='same')(e)\n",
    "e = Conv2D(16, (1, 1), activation='relu', padding='same')(e)\n",
    "e = Conv2D(8, (3, 3), activation='relu', padding='same')(e)\n",
    "encoded = Conv2D(4, (3, 3), activation='relu', padding='same')(e)\n",
    "\n",
    "d = Conv2D(4, (3, 3), activation='relu', padding='same')(encoded)\n",
    "d = Conv2D(8, (3, 3), activation='relu', padding='same')(d)\n",
    "d = Conv2D(16, (1, 1), activation='relu', padding='same')(d)\n",
    "d = UpSampling2D((2, 2))(d)\n",
    "d = Conv2D(32, (5, 5), activation='relu', padding='same')(d)\n",
    "d = UpSampling2D((2, 2))(d)\n",
    "d = Conv2D(64, (7, 7), activation='relu', padding='same')(d)\n",
    "decoded = Conv2D(3, (1, 1), activation='linear')(d)\n",
    "\n",
    "autoencoder = Model(input_img, decoded)\n",
    "autoencoder.summary()\n",
    "autoencoder.compile(optimizer='adam', loss='mse')\n",
    "\n",
    "autoencoder.fit(train_data,train_data, epochs=10, batch_size=25)"
   ]
  }
 ],
 "metadata": {
  "kernelspec": {
   "display_name": "Python 3",
   "language": "python",
   "name": "python3"
  },
  "language_info": {
   "codemirror_mode": {
    "name": "ipython",
    "version": 3
   },
   "file_extension": ".py",
   "mimetype": "text/x-python",
   "name": "python",
   "nbconvert_exporter": "python",
   "pygments_lexer": "ipython3",
   "version": "3.7.6"
  }
 },
 "nbformat": 4,
 "nbformat_minor": 2
}
