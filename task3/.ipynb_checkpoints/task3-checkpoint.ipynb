{
 "cells": [
  {
   "cell_type": "code",
   "execution_count": null,
   "metadata": {},
   "outputs": [],
   "source": [
    "from keras.models import Model\n",
    "from keras.layers import Input, Dense, Conv2D, MaxPooling2D, UpSampling2D\n",
    "\n",
    "import numpy as np\n",
    "from matplotlib import pyplot as plt\n",
    "\n",
    "import os\n",
    "from PIL import Image\n",
    "from skimage.util.shape import view_as_blocks\n",
    "from math import sqrt"
   ]
  },
  {
   "cell_type": "code",
   "execution_count": null,
   "metadata": {},
   "outputs": [],
   "source": [
    "import imgpatch\n",
    "from imp import reload\n",
    "from sklearn.model_selection import train_test_split"
   ]
  },
  {
   "cell_type": "code",
   "execution_count": null,
   "metadata": {},
   "outputs": [],
   "source": [
    "# The image is actually 240 x 416, \n",
    "#     so we will have 15 x 26 patches with frame shape of 15 x 26 instead of 26 x 15\n",
    "data1_path = 'RaceHorses_416x240_30'\n",
    "\n",
    "reload(imgpatch)\n",
    "image_data = imgpatch.load_data(data1_path)"
   ]
  },
  {
   "cell_type": "code",
   "execution_count": null,
   "metadata": {},
   "outputs": [],
   "source": [
    "patch_shape = (16, 16, 3)\n",
    "\n",
    "reload(imgpatch)\n",
    "\n",
    "patch_data = imgpatch.get_patch(image_data, patch_shape)\n",
    "train_data = patch_data / 255.0"
   ]
  },
  {
   "cell_type": "code",
   "execution_count": null,
   "metadata": {},
   "outputs": [],
   "source": [
    "input_img = Input(shape=patch_shape)\n",
    "\n",
    "e = Conv2D(64, (7, 7), activation='relu', padding='same')(input_img)\n",
    "e = MaxPooling2D((2, 2), padding='same')(e)\n",
    "e = Conv2D(32, (5, 5), activation='relu', padding='same')(e)\n",
    "#e = MaxPooling2D((2, 2), padding='same')(e)\n",
    "e = Conv2D(16, (1, 1), activation='relu', padding='same')(e)\n",
    "e = Conv2D(8, (3, 3), activation='relu', padding='same')(e)\n",
    "encoded = Conv2D(4, (3, 3), activation='relu', padding='same')(e)\n",
    "\n",
    "d = Conv2D(4, (3, 3), activation='relu', padding='same')(encoded)\n",
    "d = Conv2D(8, (3, 3), activation='relu', padding='same')(d)\n",
    "d = Conv2D(16, (1, 1), activation='relu', padding='same')(d)\n",
    "#d = UpSampling2D((2, 2))(d)\n",
    "d = Conv2D(32, (5, 5), activation='relu', padding='same')(d)\n",
    "d = UpSampling2D((2, 2))(d)\n",
    "d = Conv2D(64, (7, 7), activation='relu', padding='same')(d)\n",
    "decoded = Conv2D(3, (1, 1), activation='linear')(d)\n",
    "\n",
    "autoencoder = Model(input_img, decoded)\n",
    "autoencoder.summary()\n",
    "autoencoder.compile(optimizer='adam', loss='mse')\n",
    "\n",
    "autoencoder.fit(train_data, train_data, epochs=1, batch_size=25)"
   ]
  },
  {
   "cell_type": "code",
   "execution_count": null,
   "metadata": {},
   "outputs": [],
   "source": [
    "# --- need fix # decoded_patches = autoencoder.predict(test_data)"
   ]
  },
  {
   "cell_type": "code",
   "execution_count": null,
   "metadata": {},
   "outputs": [],
   "source": [
    "# --- need fix # decoded_patches.shape"
   ]
  },
  {
   "cell_type": "code",
   "execution_count": null,
   "metadata": {},
   "outputs": [],
   "source": [
    "# --- need fix # test_img = decoded_patches[:256]\n",
    "# --- need fix # test_img = test_img.reshape(16, 16, 15, 26, 3)\n",
    "# --- need fix # test_img.shape"
   ]
  },
  {
   "cell_type": "code",
   "execution_count": null,
   "metadata": {
    "scrolled": true
   },
   "outputs": [],
   "source": [
    "# --- need fix # test_img = merge_block(test_img)\n",
    "# --- need fix # plt.imshow(test_img)"
   ]
  }
 ],
 "metadata": {
  "kernelspec": {
   "display_name": "Python 3",
   "language": "python",
   "name": "python3"
  },
  "language_info": {
   "codemirror_mode": {
    "name": "ipython",
    "version": 3
   },
   "file_extension": ".py",
   "mimetype": "text/x-python",
   "name": "python",
   "nbconvert_exporter": "python",
   "pygments_lexer": "ipython3",
   "version": "3.7.6"
  }
 },
 "nbformat": 4,
 "nbformat_minor": 2
}
