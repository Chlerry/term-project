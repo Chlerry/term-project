{
 "cells": [
  {
   "cell_type": "code",
   "execution_count": 1,
   "metadata": {},
   "outputs": [],
   "source": [
    "import tensorflow as tf\n",
    "from tensorflow.keras import datasets, layers, models\n",
    "\n",
    "import numpy as np\n",
    "from matplotlib import pyplot as plt\n",
    "\n",
    "import os\n",
    "from PIL import Image\n",
    "\n",
    "from skimage.util.shape import view_as_blocks"
   ]
  },
  {
   "cell_type": "code",
   "execution_count": 2,
   "metadata": {},
   "outputs": [],
   "source": [
    "# img is a numpy array with shape (16, 16, 15, 26, 3)\n",
    "def print_patches(img):\n",
    "    n_images = 16\n",
    "    f, axarr = plt.subplots(16, n_images,figsize=(10, 10), sharey=True)\n",
    "\n",
    "    for i in range(16):\n",
    "        for j in range (16):\n",
    "            axarr[i, j].imshow(img[i][j])\n",
    "\n",
    "    plt.show()\n",
    "\n",
    "# x = x.reshape(16, 16, 15, 26, 3)\n",
    "# print_patches(x)"
   ]
  },
  {
   "cell_type": "code",
   "execution_count": null,
   "metadata": {},
   "outputs": [],
   "source": [
    "# block (16, 16, 15, 26, 3) is a numpy array stores 16 x 16 patches of 15 x 26 frame\n",
    "# merge_block returns a 240 x 416 image\n",
    "def merge_block(block):\n",
    "    image_shape = (block.shape[0]*block.shape[2], block.shape[1]*block.shape[3], block.shape[4])\n",
    "    img = np.empty(image_shape, dtype = np.int32)\n",
    "\n",
    "    for i in range(16):\n",
    "        for j in range(15):\n",
    "            img[i*15 + j] = block[i][:,j].reshape((1, image_shape[1], 3))\n",
    "            \n",
    "    return img"
   ]
  },
  {
   "cell_type": "code",
   "execution_count": null,
   "metadata": {},
   "outputs": [],
   "source": [
    "# patch_shape = (15, 26, 3)\n",
    "# return (76800, 15, 26, 3) patch_data; 76800 patches\n",
    "def load_data(data_path, patch_shape):\n",
    "    file_names = os.listdir(data_path)\n",
    "    n_image = len(file_names)\n",
    "\n",
    "#     image_shape = (240, 416, 3)\n",
    "    input_im = np.array(Image.open(data1_path + '/' + file_names[0]))\n",
    "    image_shape = input_im[...,:3].shape\n",
    "\n",
    "    block_shape = (image_shape[0]//patch_shape[0], image_shape[1]//patch_shape[1])\n",
    "\n",
    "    n_patch = block_shape[0] * block_shape[1]\n",
    "\n",
    "    patch_data = np.empty((n_patch * n_image, patch_shape[0], patch_shape[1], patch_shape[2]), dtype = np.int32)\n",
    "\n",
    "    for i in range(n_image):  \n",
    "        input_im =  np.array(Image.open(data1_path + '/' + file_names[i]))\n",
    "        block = view_as_blocks(input_im[...,:3], block_shape = patch_shape).reshape \\\n",
    "            ((n_patch, patch_shape[0], patch_shape[1], patch_shape[2]))\n",
    "    #     print(block.shape)\n",
    "\n",
    "        for j in range(n_patch):\n",
    "            patch_data[i*n_patch + j] = block[j]\n",
    "\n",
    "    print(patch_data.shape)\n",
    "    return patch_data"
   ]
  },
  {
   "cell_type": "code",
   "execution_count": null,
   "metadata": {},
   "outputs": [],
   "source": [
    "# The image is actually 240 x 416, \n",
    "#     so we will have 16 x 16 patches with frame shape of 15 x 26 instead of 26 x 15\n",
    "data1_path = 'RaceHorses_416x240_30'\n",
    "patch_shape = (15, 26, 3)\n",
    "\n",
    "patch_data = load_data(data1_path, patch_shape)"
   ]
  },
  {
   "cell_type": "code",
   "execution_count": null,
   "metadata": {},
   "outputs": [],
   "source": [
    "test_block = patch_data.reshape(300, 256, 15, 26, 3)[100]\n",
    "block = test_block.reshape(16, 16, 15, 26, 3)\n",
    "\n",
    "test_image = merge_block(block)\n",
    "\n",
    "img = plt.imshow(test_image)\n",
    "plt.show()"
   ]
  }
 ],
 "metadata": {
  "kernelspec": {
   "display_name": "Python 3",
   "language": "python",
   "name": "python3"
  },
  "language_info": {
   "codemirror_mode": {
    "name": "ipython",
    "version": 3
   },
   "file_extension": ".py",
   "mimetype": "text/x-python",
   "name": "python",
   "nbconvert_exporter": "python",
   "pygments_lexer": "ipython3",
   "version": "3.7.6"
  }
 },
 "nbformat": 4,
 "nbformat_minor": 2
}
