{
 "cells": [
  {
   "cell_type": "code",
   "execution_count": null,
   "metadata": {},
   "outputs": [],
   "source": [
    "import os\n",
    "from imp import reload\n",
    "from matplotlib import pyplot as plt\n",
    "from sklearn.model_selection import train_test_split\n",
    "\n",
    "# Lical Library\n",
    "import imgpatch\n",
    "import vcompresslib"
   ]
  },
  {
   "cell_type": "code",
   "execution_count": null,
   "metadata": {},
   "outputs": [],
   "source": [
    "# The image is actually 240 x 416, \n",
    "#     so we will have 15 x 26 patches with frame shape of 15 x 26 instead of 26 x 15\n",
    "\n",
    "# Data options\n",
    "data_path = ['RaceHorses_416x240_30','BlowingBubbles_416x240_50' , 'BasketballDrill_832x480_50']\n",
    "\n",
    "# Load data\n",
    "image_data = imgpatch.load_data(data_path[0]) \n",
    "# train_image = imgpatch.load_data(data_path[0])\n",
    "# test_image = imgpatch.load_data(data_path[1])\n",
    "# Define training data, and test data\n",
    "train_image, test_image = train_test_split(image_data, train_size = 0.75)\n",
    "\n",
    "# Patch shape\n",
    "patch_shape = (16, 16, 3)\n",
    "\n",
    "# Convert image data to patches\n",
    "train_data = imgpatch.get_patch(train_image, patch_shape)\n",
    "test_data = imgpatch.get_patch(test_image, patch_shape)"
   ]
  },
  {
   "cell_type": "code",
   "execution_count": null,
   "metadata": {},
   "outputs": [],
   "source": [
    "# Train model\n",
    "ratios = ['1/32','1/16','1/8','1/4','1/2']\n",
    "decoders = []\n",
    "for r in ratios:\n",
    "    decoders.append(vcompresslib.model2(train_data, patch_shape, r))"
   ]
  },
  {
   "cell_type": "code",
   "execution_count": null,
   "metadata": {},
   "outputs": [],
   "source": [
    "# Feed test data into the feed model, and get decoded images \n",
    "decoded_images = []\n",
    "for d in decoders:\n",
    "    decoded_images.append(vcompresslib.get_decoded_image(d, test_data, \\\n",
    "                                               patch_shape, test_image.shape))"
   ]
  },
  {
   "cell_type": "code",
   "execution_count": null,
   "metadata": {},
   "outputs": [],
   "source": [
    "n_images = 5\n",
    "\n",
    "_, axarr = plt.subplots(n_images,figsize=(40, 40), sharey=True)\n",
    "\n",
    "\n",
    "for i in range(n_images):\n",
    "        axarr[i].imshow(decoded_images[i][5])\n",
    "        axarr[i].axis('off')\n",
    "\n",
    "plt.show()"
   ]
  },
  {
   "cell_type": "code",
   "execution_count": null,
   "metadata": {},
   "outputs": [],
   "source": [
    "# Calculate average PSNR\n",
    "PSNRs = []\n",
    "for d_img in decoded_images:\n",
    "    PSNRs.append(vcompresslib.get_psnr(test_image, d_img))\n",
    "\n",
    "print(PSNRs)\n",
    "\n",
    "# Giving a title to the graph \n",
    "plt.title('PSNR versus Compression Ratio') \n",
    "\n",
    "plt.plot(ratios, PSNRs, 'bo:', label = 'PSNR')\n",
    "plt.xlabel('Compression Ratio')\n",
    "plt.ylabel('PSNR')\n",
    "plt.legend(loc = 4)\n",
    "\n",
    "plt.show()"
   ]
  }
 ],
 "metadata": {
  "kernelspec": {
   "display_name": "Python 3",
   "language": "python",
   "name": "python3"
  },
  "language_info": {
   "codemirror_mode": {
    "name": "ipython",
    "version": 3
   },
   "file_extension": ".py",
   "mimetype": "text/x-python",
   "name": "python",
   "nbconvert_exporter": "python",
   "pygments_lexer": "ipython3",
   "version": "3.7.6"
  }
 },
 "nbformat": 4,
 "nbformat_minor": 2
}
