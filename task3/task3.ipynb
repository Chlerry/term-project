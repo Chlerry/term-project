{
 "cells": [
  {
   "cell_type": "code",
   "execution_count": null,
   "metadata": {},
   "outputs": [],
   "source": [
    "import os\n",
    "from imp import reload\n",
    "from matplotlib import pyplot as plt\n",
    "from sklearn.model_selection import train_test_split\n",
    "\n",
    "# Lical Library\n",
    "import imgpatch\n",
    "import vcompresslib"
   ]
  },
  {
   "cell_type": "code",
   "execution_count": null,
   "metadata": {},
   "outputs": [],
   "source": [
    "# The image is actually 240 x 416, \n",
    "#     so we will have 15 x 26 patches with frame shape of 15 x 26 instead of 26 x 15\n",
    "\n",
    "# Data options\n",
    "data_path = ['RaceHorses_416x240_30','BlowingBubbles_416x240_50' , 'BasketballDrill_832x480_50']\n",
    "\n",
    "# Load data\n",
    "#image_data = imgpatch.load_data(data_path[0]) \n",
    "train_image = imgpatch.load_data(data_path[0])\n",
    "test_image = imgpatch.load_data(data_path[1])\n",
    "# Define training data, and test data\n",
    "#train_image, test_image = train_test_split(image_data, train_size = 0.75)\n",
    "\n",
    "# Patch shape\n",
    "patch_shape = (16, 16, 3)\n",
    "\n",
    "# Convert image data to patches\n",
    "train_data = imgpatch.get_patch(train_image, patch_shape)\n",
    "test_data = imgpatch.get_patch(test_image, patch_shape)"
   ]
  },
  {
   "cell_type": "code",
   "execution_count": null,
   "metadata": {},
   "outputs": [],
   "source": [
    "# Train model\n",
    "ratios = ['1/32','1/16','1/8','1/4','1/2']\n",
    "decoders = []\n",
    "for r in ratios:\n",
    "    decoders.append(vcompresslib.test_model(train_data, patch_shape, r))"
   ]
  },
  {
   "cell_type": "code",
   "execution_count": null,
   "metadata": {},
   "outputs": [],
   "source": [
    "# Feed test data into the feed model, and get decoded images \n",
    "decoded_images = []\n",
    "for d in decoders:\n",
    "    decoded_images.append(vcompresslib.get_decoded_image(d, test_data, \\\n",
    "                                               patch_shape, test_image.shape))"
   ]
  },
  {
   "cell_type": "code",
   "execution_count": null,
   "metadata": {},
   "outputs": [],
   "source": [
    "fig = plt.figure(figsize=(40,40))\n",
    "fig.add_subplot(1,6,1)\n",
    "plt.axis('off')\n",
    "plt.imshow(test_image[5])\n",
    "for i in range(len(ratios)):\n",
    "    fig.add_subplot(1,6,i+2)\n",
    "    plt.axis('off')\n",
    "    plt.imshow(decoded_images[i][5])\n"
   ]
  },
  {
   "cell_type": "code",
   "execution_count": null,
   "metadata": {},
   "outputs": [],
   "source": [
    "# Calculate average PSNR\n",
    "PSNRs = []\n",
    "for d_img in decoded_images:\n",
    "    PSNRs.append(vcompresslib.get_psnr(test_image, d_img))\n",
    "\n",
    "print(PSNRs)\n",
    "plt.plot(ratios,PSNRs)\n",
    "plt.xlabel('Ratio')\n",
    "plt.ylabel('PSNR')\n",
    "plt.show()"
   ]
  }
 ],
 "metadata": {
  "kernelspec": {
   "display_name": "Python 3",
   "language": "python",
   "name": "python3"
  },
  "language_info": {
   "codemirror_mode": {
    "name": "ipython",
    "version": 3
   },
   "file_extension": ".py",
   "mimetype": "text/x-python",
   "name": "python",
   "nbconvert_exporter": "python",
   "pygments_lexer": "ipython3",
   "version": "3.7.6"
  }
 },
 "nbformat": 4,
 "nbformat_minor": 2
}
