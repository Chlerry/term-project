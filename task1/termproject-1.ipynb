{
 "cells": [
  {
   "cell_type": "code",
   "execution_count": 96,
   "metadata": {},
   "outputs": [
    {
     "name": "stdout",
     "output_type": "stream",
     "text": [
      "Model: \"sequential_9\"\n",
      "_________________________________________________________________\n",
      "Layer (type)                 Output Shape              Param #   \n",
      "=================================================================\n",
      "conv2d_27 (Conv2D)           (None, 26, 26, 32)        320       \n",
      "_________________________________________________________________\n",
      "max_pooling2d_18 (MaxPooling (None, 13, 13, 32)        0         \n",
      "_________________________________________________________________\n",
      "conv2d_28 (Conv2D)           (None, 11, 11, 64)        18496     \n",
      "_________________________________________________________________\n",
      "max_pooling2d_19 (MaxPooling (None, 5, 5, 64)          0         \n",
      "_________________________________________________________________\n",
      "conv2d_29 (Conv2D)           (None, 3, 3, 64)          36928     \n",
      "_________________________________________________________________\n",
      "flatten_2 (Flatten)          (None, 576)               0         \n",
      "_________________________________________________________________\n",
      "dense_12 (Dense)             (None, 64)                36928     \n",
      "_________________________________________________________________\n",
      "dense_13 (Dense)             (None, 10)                650       \n",
      "=================================================================\n",
      "Total params: 93,322\n",
      "Trainable params: 93,322\n",
      "Non-trainable params: 0\n",
      "_________________________________________________________________\n",
      "Train on 60000 samples\n",
      "Epoch 1/5\n",
      "60000/60000 - 69s - loss: 0.4865 - accuracy: 0.8207\n",
      "Epoch 2/5\n",
      "60000/60000 - 70s - loss: 0.3164 - accuracy: 0.8854\n",
      "Epoch 3/5\n",
      "60000/60000 - 69s - loss: 0.2725 - accuracy: 0.8996\n",
      "Epoch 4/5\n",
      "60000/60000 - 69s - loss: 0.2438 - accuracy: 0.9103\n",
      "Epoch 5/5\n",
      "60000/60000 - 69s - loss: 0.2209 - accuracy: 0.9188\n",
      "0.8991\n",
      "[[837   0  18  17   5   1 120   0   2   0]\n",
      " [  1 982   0   9   2   0   4   0   2   0]\n",
      " [ 11   1 823   8  78   0  79   0   0   0]\n",
      " [ 14   5  12 876  43   0  49   0   1   0]\n",
      " [  1   1  32  10 867   0  88   0   1   0]\n",
      " [  0   0   0   2   0 966   0  20   0  12]\n",
      " [105   0  62  15  61   0 751   0   6   0]\n",
      " [  0   0   0   0   0  15   0 965   0  20]\n",
      " [  6   1   5   3  10   1  10   0 963   1]\n",
      " [  1   0   0   0   0   5   0  33   0 961]]\n"
     ]
    }
   ],
   "source": [
    "import tensorflow as tf\n",
    "import numpy as np\n",
    "from tensorflow.keras import datasets, layers, models\n",
    "from sklearn.metrics import confusion_matrix\n",
    "from sklearn.metrics import accuracy_score\n",
    "fashion_mnist = datasets.fashion_mnist\n",
    "(train_images, train_labels), (test_images, test_labels) = fashion_mnist.load_data()\n",
    "train_images = train_images.reshape((60000, 28, 28, 1))\n",
    "test_images = test_images.reshape((10000, 28, 28, 1))\n",
    "train_images, test_images = train_images / 255.0, test_images / 255.0\n",
    "\n",
    "model= models.Sequential()\n",
    "\n",
    "model.add(layers.Conv2D(32,(3,3),activation='relu',input_shape=(28, 28, 1)))\n",
    "model.add(layers.MaxPooling2D(pool_size=(2,2)))\n",
    "model.add(layers.Conv2D(64,(3,3),activation='relu'))\n",
    "model.add(layers.MaxPooling2D(pool_size=(2,2)))\n",
    "model.add(layers.Conv2D(64,(3,3),activation='relu'))\n",
    "model.add(layers.Flatten())\n",
    "model.add(layers.Dense(64, activation='relu'))\n",
    "model.add(layers.Dense(10, activation='softmax'))\n",
    "\n",
    "model.summary()\n",
    "\n",
    "model.compile(optimizer='adam',\n",
    "              loss='sparse_categorical_crossentropy',\n",
    "              metrics=['accuracy'])\n",
    "\n",
    "model.fit(train_images, train_labels, epochs=5, verbose=2)\n",
    "y_test_hat_mat = model.predict(test_images)\n",
    "y_test_hat = np.argmax(y_test_hat_mat, axis=1)\n",
    "print(accuracy_score(test_labels, y_test_hat))\n",
    "print(confusion_matrix(test_labels, y_test_hat))"
   ]
  }
 ],
 "metadata": {
  "kernelspec": {
   "display_name": "Python 3",
   "language": "python",
   "name": "python3"
  },
  "language_info": {
   "codemirror_mode": {
    "name": "ipython",
    "version": 3
   },
   "file_extension": ".py",
   "mimetype": "text/x-python",
   "name": "python",
   "nbconvert_exporter": "python",
   "pygments_lexer": "ipython3",
   "version": "3.7.4"
  }
 },
 "nbformat": 4,
 "nbformat_minor": 2
}
